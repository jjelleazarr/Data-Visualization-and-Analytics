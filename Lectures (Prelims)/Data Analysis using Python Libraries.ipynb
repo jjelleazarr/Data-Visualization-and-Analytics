{
 "cells": [
  {
   "cell_type": "markdown",
   "id": "f4fad572",
   "metadata": {},
   "source": [
    "# Data Analysis using Python Libraries\n"
   ]
  },
  {
   "cell_type": "markdown",
   "id": "08c3ed9f",
   "metadata": {},
   "source": [
    "## Creating a NumPy array\n",
    "One of the most common, of the many, ways to create a NumPy array is to create one from a list by passing it to the np.array() function."
   ]
  },
  {
   "cell_type": "code",
   "execution_count": 1,
   "id": "6770bcac",
   "metadata": {},
   "outputs": [
    {
     "name": "stdout",
     "output_type": "stream",
     "text": [
      "<class 'numpy.ndarray'>\n",
      "[0 1 2 3 4]\n"
     ]
    }
   ],
   "source": [
    "import numpy as np\n",
    "list1 = [0, 1, 2, 3, 4]\n",
    "arr = np.array(list1)\n",
    "\n",
    "print(type(arr))\n",
    "print(arr)"
   ]
  },
  {
   "cell_type": "markdown",
   "id": "126e0197",
   "metadata": {},
   "source": [
    "## Difference between lists and arrays\n",
    "The key difference between an array and a list is that arrays are designed to handle vectorised operations while a python lists are not. That means, if you apply a function, it is performed on every item in the array, rather than on the whole array object."
   ]
  },
  {
   "cell_type": "code",
   "execution_count": 2,
   "id": "851a624d",
   "metadata": {},
   "outputs": [
    {
     "name": "stdout",
     "output_type": "stream",
     "text": [
      "[0 1 2 3 4]\n",
      "[2 3 4 5 6]\n"
     ]
    }
   ],
   "source": [
    "list1 = [0, 1, 2, 3, 4]\n",
    "arr = np.array(list1)\n",
    "print(arr)\n",
    "arr=arr+2\n",
    "print(arr)"
   ]
  },
  {
   "cell_type": "markdown",
   "id": "018ba496",
   "metadata": {},
   "source": [
    "## Create a 2d array from a list of list\n",
    "You can pass a list of lists to create a matrix-like a 2d array."
   ]
  },
  {
   "cell_type": "code",
   "execution_count": 3,
   "id": "417534d5",
   "metadata": {},
   "outputs": [
    {
     "name": "stdout",
     "output_type": "stream",
     "text": [
      "[[0 1 2]\n",
      " [3 4 5]\n",
      " [6 7 8]]\n"
     ]
    }
   ],
   "source": [
    "list2 = [[0, 1, 2], [3, 4, 5], [6, 7, 8]]\n",
    "arr2 = np.array(list2)\n",
    "print(arr2)"
   ]
  },
  {
   "cell_type": "markdown",
   "id": "852c474b",
   "metadata": {},
   "source": [
    "## The dtype argument\n",
    "You can specify the data-type by setting the dtype() argument. Some of the most commonly used NumPy dtypes are: float, int, bool, str, and object."
   ]
  },
  {
   "cell_type": "code",
   "execution_count": 4,
   "id": "6742b9f7",
   "metadata": {},
   "outputs": [
    {
     "name": "stdout",
     "output_type": "stream",
     "text": [
      "[[0. 1. 2.]\n",
      " [3. 4. 5.]\n",
      " [6. 7. 8.]]\n"
     ]
    }
   ],
   "source": [
    "list2 = [[0, 1, 2], [3, 4, 5], [6, 7, 8]]\n",
    "arr3 = np.array(list2, dtype='float')\n",
    "print(arr3)"
   ]
  },
  {
   "cell_type": "markdown",
   "id": "e5a8b9f2",
   "metadata": {},
   "source": [
    "## The astype argument\n",
    "You can also convert it to a different data-type using the astype method. Remember that, unlike lists, all items in an array have to be of the same\n",
    "type."
   ]
  },
  {
   "cell_type": "code",
   "execution_count": 5,
   "id": "f409b069",
   "metadata": {},
   "outputs": [
    {
     "name": "stdout",
     "output_type": "stream",
     "text": [
      "[[0. 1. 2.]\n",
      " [3. 4. 5.]\n",
      " [6. 7. 8.]]\n",
      "[['0' '1' '2']\n",
      " ['3' '4' '5']\n",
      " ['6' '7' '8']]\n"
     ]
    }
   ],
   "source": [
    "list2 = [[0, 1, 2], [3, 4, 5], [6, 7, 8]]\n",
    "arr3 = np.array(list2, dtype='float')\n",
    "print(arr3)\n",
    "arr3_s = arr3.astype('int').astype('str')\n",
    "print(arr3_s)"
   ]
  },
  {
   "cell_type": "markdown",
   "id": "b89c0b48",
   "metadata": {},
   "source": [
    "## dtype=‘object’\n",
    "However, if you are uncertain about what data type your array will hold, or if you want to hold characters and numbers in the same array, you can set the dtype as 'object'."
   ]
  },
  {
   "cell_type": "code",
   "execution_count": 6,
   "id": "fbe28878",
   "metadata": {},
   "outputs": [
    {
     "name": "stdout",
     "output_type": "stream",
     "text": [
      "[1 'a']\n"
     ]
    }
   ],
   "source": [
    "arr_obj = np.array([1, 'a'], dtype='object')\n",
    "print(arr_obj)"
   ]
  },
  {
   "cell_type": "markdown",
   "id": "a3722d33",
   "metadata": {},
   "source": [
    "## The tolist() function\n",
    "You can always convert an array into a list using the tolist() command."
   ]
  },
  {
   "cell_type": "code",
   "execution_count": 7,
   "id": "ed82411e",
   "metadata": {},
   "outputs": [
    {
     "name": "stdout",
     "output_type": "stream",
     "text": [
      "[[0.0, 1.0, 2.0], [3.0, 4.0, 5.0], [6.0, 7.0, 8.0]]\n"
     ]
    }
   ],
   "source": [
    "arr_list = arr3.tolist()\n",
    "print(arr_list)"
   ]
  },
  {
   "cell_type": "markdown",
   "id": "fffe913b",
   "metadata": {},
   "source": [
    "## Inspecting a NumPy array\n",
    "There are a range of functions built into NumPy that allow you to inspect different aspects of an array."
   ]
  },
  {
   "cell_type": "code",
   "execution_count": 8,
   "id": "4823fc01",
   "metadata": {},
   "outputs": [
    {
     "name": "stdout",
     "output_type": "stream",
     "text": [
      "Shape: (3, 3)\n",
      "Data type: float64\n",
      "size: 9\n",
      "Number of dimensions: 2\n"
     ]
    }
   ],
   "source": [
    "list2 = [[0, 1, 2], [3, 4, 5], [6, 7, 8]]\n",
    "arr3 = np.array(list2, dtype='float')\n",
    "print('Shape:', arr3.shape)\n",
    "print('Data type:', arr3.dtype) \n",
    "print('size:', arr3.size)\n",
    "print('Number of dimensions:', arr3.ndim)"
   ]
  },
  {
   "cell_type": "markdown",
   "id": "10d5c585",
   "metadata": {},
   "source": [
    "## Extracting specific items from an array\n",
    "You can extract portions of the array using indices, much like when you’re working with lists. Unlike lists, however, arrays can optionally accept as many parameters in the square brackets as there are number of dimensions"
   ]
  },
  {
   "cell_type": "code",
   "execution_count": 9,
   "id": "fcaa0ba1",
   "metadata": {},
   "outputs": [
    {
     "name": "stdout",
     "output_type": "stream",
     "text": [
      "whole: [[0. 1. 2.]\n",
      " [3. 4. 5.]\n",
      " [6. 7. 8.]]\n",
      "part: [[0. 1.]\n",
      " [3. 4.]]\n"
     ]
    }
   ],
   "source": [
    "list2 = [[0, 1, 2], [3, 4, 5], [6, 7, 8]]\n",
    "arr3 = np.array(list2, dtype='float')\n",
    "print(\"whole:\", arr3)\n",
    "print(\"part:\", arr3[:2, :2]) # first two rows and first two columns"
   ]
  },
  {
   "cell_type": "markdown",
   "id": "5859af1e",
   "metadata": {},
   "source": [
    "## Boolean indexing\n",
    "A boolean index array is of the same shape as the array-to-be-filtered, but it only contains TRUE and FALSE values."
   ]
  },
  {
   "cell_type": "code",
   "execution_count": 10,
   "id": "11dd1aa1",
   "metadata": {},
   "outputs": [
    {
     "name": "stdout",
     "output_type": "stream",
     "text": [
      "[[False False False]\n",
      " [ True  True  True]\n",
      " [ True  True  True]]\n"
     ]
    }
   ],
   "source": [
    "list2 = [[0, 1, 2], [3, 4, 5], [6, 7, 8]]\n",
    "arr3 = np.array(list2, dtype='float')\n",
    "boo = arr3 > 2 # value greater than 2\n",
    "print(boo) "
   ]
  },
  {
   "cell_type": "markdown",
   "id": "96b68199",
   "metadata": {},
   "source": [
    "## Indices in a pandas series\n",
    "A pandas series is similar to a list, but differs in the fact that a series associates a label with each element. This makes it look like a dictionary If an index is not explicitly provided by the user, pandas creates a RangeIndex ranging from 0 to N-1. Each series object also has a data type."
   ]
  },
  {
   "cell_type": "code",
   "execution_count": 11,
   "id": "2811ad8a",
   "metadata": {},
   "outputs": [
    {
     "name": "stdout",
     "output_type": "stream",
     "text": [
      "0     5\n",
      "1     6\n",
      "2     7\n",
      "3     8\n",
      "4     9\n",
      "5    10\n",
      "dtype: int64\n"
     ]
    }
   ],
   "source": [
    "import pandas as pd\n",
    "new_series = pd.Series([5, 6, 7, 8, 9, 10])\n",
    "print(new_series)"
   ]
  },
  {
   "cell_type": "markdown",
   "id": "49bbf817",
   "metadata": {},
   "source": [
    "As you may suspect by this point, a series has ways to extract all of\n",
    "the values in the series, as well as individual elements by index."
   ]
  },
  {
   "cell_type": "code",
   "execution_count": 12,
   "id": "8a5bf25a",
   "metadata": {},
   "outputs": [
    {
     "name": "stdout",
     "output_type": "stream",
     "text": [
      "[ 5  6  7  8  9 10]\n",
      "--------------------------------\n",
      "9\n"
     ]
    }
   ],
   "source": [
    "new_series = pd.Series([5, 6, 7, 8, 9, 10])\n",
    "print(new_series.values)\n",
    "print('--------------------------------')\n",
    "print(new_series[4]) # access by index"
   ]
  },
  {
   "cell_type": "markdown",
   "id": "73373900",
   "metadata": {},
   "source": [
    "You can also provide an index manually."
   ]
  },
  {
   "cell_type": "code",
   "execution_count": 13,
   "id": "b8c72103",
   "metadata": {},
   "outputs": [
    {
     "name": "stdout",
     "output_type": "stream",
     "text": [
      "[ 5  6  7  8  9 10]\n",
      "--------------------------------\n",
      "10\n"
     ]
    }
   ],
   "source": [
    "new_series = pd.Series([5, 6, 7, 8, 9, 10], index=['a', 'b', 'c', 'd', 'e', 'f'])\n",
    "print(new_series.values)\n",
    "print('--------------------------------')\n",
    "print(new_series['f']) # access by label"
   ]
  },
  {
   "cell_type": "markdown",
   "id": "78b12dc7",
   "metadata": {},
   "source": [
    "It is easy to retrieve several elements of a series by their indices or make group assignments."
   ]
  },
  {
   "cell_type": "code",
   "execution_count": 14,
   "id": "766798ca",
   "metadata": {},
   "outputs": [
    {
     "name": "stdout",
     "output_type": "stream",
     "text": [
      "a     5\n",
      "b     6\n",
      "c     7\n",
      "d     8\n",
      "e     9\n",
      "f    10\n",
      "dtype: int64\n",
      "--------------------------------\n",
      "a    0\n",
      "b    0\n",
      "c    7\n",
      "d    8\n",
      "e    9\n",
      "f    0\n",
      "dtype: int64\n"
     ]
    }
   ],
   "source": [
    "new_series = pd.Series([5, 6, 7, 8, 9, 10], index=['a', 'b', 'c', 'd', 'e', 'f'])\n",
    "print(new_series)\n",
    "print('--------------------------------')\n",
    "new_series[['a', 'b', 'f']] = 0 # assign multiple values\n",
    "print(new_series)"
   ]
  },
  {
   "cell_type": "markdown",
   "id": "0d2f389e",
   "metadata": {},
   "source": [
    "## Filtering and maths operations\n",
    "Filtering and maths operations are easy with Pandas as well."
   ]
  },
  {
   "cell_type": "code",
   "execution_count": 15,
   "id": "6ab67886",
   "metadata": {},
   "outputs": [
    {
     "name": "stdout",
     "output_type": "stream",
     "text": [
      "b     6\n",
      "c     7\n",
      "d     8\n",
      "e     9\n",
      "f    10\n",
      "dtype: int64\n",
      "--------------------------------\n",
      "b    12\n",
      "c    14\n",
      "d    16\n",
      "e    18\n",
      "f    20\n",
      "dtype: int64\n"
     ]
    }
   ],
   "source": [
    "new_series = pd.Series([5, 6, 7, 8, 9, 10], index=['a', 'b', 'c', 'd', 'e', 'f'])\n",
    "new_series2 = new_series[new_series > 5] # filter values greater than 5\n",
    "print(new_series2)\n",
    "print('--------------------------------')\n",
    "new_series2[new_series2 > 5]*=2 # double the values greater than 5\n",
    "print(new_series2)"
   ]
  },
  {
   "cell_type": "markdown",
   "id": "c48b08c2",
   "metadata": {},
   "source": [
    "## Creating a Pandas data frame\n",
    "Pandas data frames can be constructed using Python dictionaries."
   ]
  },
  {
   "cell_type": "code",
   "execution_count": 16,
   "id": "395ca4ff",
   "metadata": {},
   "outputs": [
    {
     "name": "stdout",
     "output_type": "stream",
     "text": [
      "      country  population    square\n",
      "0  Kazakhstan        18.8   2724902\n",
      "1      Russia       144.5  17098242\n",
      "2     Belarus         9.5    207600\n",
      "3     Ukraine        43.7    603628\n"
     ]
    }
   ],
   "source": [
    "df = pd.DataFrame({\n",
    "    'country': ['Kazakhstan', 'Russia', 'Belarus', 'Ukraine'],\n",
    "    'population': [18.8, 144.5, 9.5, 43.7],\n",
    "    'square': [2724902, 17098242, 207600, 603628]\n",
    "})\n",
    "print(df)"
   ]
  },
  {
   "cell_type": "markdown",
   "id": "b9b022f7",
   "metadata": {},
   "source": [
    "You can also create a data frame from a list."
   ]
  },
  {
   "cell_type": "code",
   "execution_count": 17,
   "id": "374ce48f",
   "metadata": {},
   "outputs": [
    {
     "name": "stdout",
     "output_type": "stream",
     "text": [
      "   0  1  2\n",
      "0  0  1  2\n",
      "1  3  4  5\n",
      "2  6  7  8\n",
      "   V1  V2  V3\n",
      "0   0   1   2\n",
      "1   3   4   5\n",
      "2   6   7   8\n"
     ]
    }
   ],
   "source": [
    "list2 = [[0, 1, 2], [3, 4, 5], [6, 7, 8]]  \n",
    "df = pd.DataFrame(list2)\n",
    "print(df)\n",
    "df.columns = ['V1', 'V2', 'V3'] # assign column names\n",
    "print(df)"
   ]
  },
  {
   "cell_type": "markdown",
   "id": "f0e0aeaf",
   "metadata": {},
   "source": [
    "You can ascertain the type of a column with the type() function."
   ]
  },
  {
   "cell_type": "code",
   "execution_count": 18,
   "id": "2c7d605e",
   "metadata": {},
   "outputs": [
    {
     "name": "stdout",
     "output_type": "stream",
     "text": [
      "<class 'pandas.core.series.Series'>\n"
     ]
    }
   ],
   "source": [
    "df = pd.DataFrame({\n",
    "    'country': ['Kazakhstan', 'Russia', 'Belarus', 'Ukraine'],\n",
    "    'population': [18.8, 144.5, 9.5, 43.7],\n",
    "    'square': [2724902, 17098242, 207600, 603628]\n",
    "})\n",
    "print(type(df['country'])) # a column is a Pandas Series object"
   ]
  },
  {
   "cell_type": "markdown",
   "id": "b534fd8e",
   "metadata": {},
   "source": [
    "A Pandas data frame object as two indices; a column index and row index. Again, if you do not provide one, Pandas will create a RangeIndex from 0 to N-1."
   ]
  },
  {
   "cell_type": "code",
   "execution_count": 19,
   "id": "dfc72a3c",
   "metadata": {},
   "outputs": [
    {
     "name": "stdout",
     "output_type": "stream",
     "text": [
      "Index(['country', 'population', 'square'], dtype='object')\n",
      "----------------\n",
      "RangeIndex(start=0, stop=4, step=1)\n"
     ]
    }
   ],
   "source": [
    "df = pd.DataFrame({\n",
    "    'country': ['Kazakhstan', 'Russia', 'Belarus', 'Ukraine'],\n",
    "    'population': [18.8, 144.5, 9.5, 43.7],\n",
    "    'square': [2724902, 17098242, 207600, 603628]\n",
    "})\n",
    "print(df.columns) # print column names\n",
    "print('----------------')\n",
    "print(df.index) # print row indices"
   ]
  },
  {
   "cell_type": "markdown",
   "id": "4d5d0580",
   "metadata": {},
   "source": [
    "There are numerous ways to provide row indices explicitly. For example, you could provide an index when creating a data frame."
   ]
  },
  {
   "cell_type": "code",
   "execution_count": 20,
   "id": "982eff44",
   "metadata": {},
   "outputs": [
    {
     "name": "stdout",
     "output_type": "stream",
     "text": [
      "       country  population    square\n",
      "KZ  Kazakhstan        18.8   2724902\n",
      "RU      Russia       144.5  17098242\n",
      "BY     Belarus         9.5    207600\n",
      "UA     Ukraine        43.7    603628\n"
     ]
    }
   ],
   "source": [
    "df = pd.DataFrame({\n",
    "    'country': ['Kazakhstan', 'Russia', 'Belarus', 'Ukraine'],\n",
    "    'population': [18.8, 144.5, 9.5, 43.7],\n",
    "    'square': [2724902, 17098242, 207600, 603628]\n",
    "}, index=['KZ', 'RU', 'BY', 'UA']) # provide custom row indices\n",
    "print(df)"
   ]
  },
  {
   "cell_type": "markdown",
   "id": "78efcdaf",
   "metadata": {},
   "source": [
    "or do it during runtime. Here, I also named the index ‘country code’."
   ]
  },
  {
   "cell_type": "code",
   "execution_count": 21,
   "id": "11068fad",
   "metadata": {},
   "outputs": [
    {
     "name": "stdout",
     "output_type": "stream",
     "text": [
      "      country  population    square\n",
      "0  Kazakhstan        18.8   2724902\n",
      "1      Russia       144.5  17098242\n",
      "2     Belarus         9.5    207600\n",
      "3     Ukraine        43.7    603628\n",
      "----------------\n",
      "                 country  population    square\n",
      "country code                                  \n",
      "KZ            Kazakhstan        18.8   2724902\n",
      "RU                Russia       144.5  17098242\n",
      "BY               Belarus         9.5    207600\n",
      "UA               Ukraine        43.7    603628\n"
     ]
    }
   ],
   "source": [
    "df = pd.DataFrame({\n",
    "    'country': ['Kazakhstan', 'Russia', 'Belarus', 'Ukraine'],\n",
    "    'population': [18.8, 144.5, 9.5, 43.7],\n",
    "    'square': [2724902, 17098242, 207600, 603628]\n",
    "})\n",
    "print(df)\n",
    "print('----------------')\n",
    "df.index = ['KZ', 'RU', 'BY', 'UA'] # assign custom row indices\n",
    "df.index.name = 'country code' # name the index\n",
    "print(df)"
   ]
  },
  {
   "cell_type": "markdown",
   "id": "544992ec",
   "metadata": {},
   "source": [
    "Row access using index can be performed in several ways. First, you could use .loc() and provide an index label."
   ]
  },
  {
   "cell_type": "code",
   "execution_count": 22,
   "id": "397757fe",
   "metadata": {},
   "outputs": [
    {
     "name": "stdout",
     "output_type": "stream",
     "text": [
      "country       Kazakhstan\n",
      "population          18.8\n",
      "square           2724902\n",
      "Name: KZ, dtype: object\n"
     ]
    }
   ],
   "source": [
    "print(df.loc['KZ']) # access row by index label"
   ]
  },
  {
   "cell_type": "markdown",
   "id": "ee5a6f6b",
   "metadata": {},
   "source": [
    "Second, you could use .iloc() and provide an index number"
   ]
  },
  {
   "cell_type": "code",
   "execution_count": 23,
   "id": "bd233d02",
   "metadata": {},
   "outputs": [
    {
     "name": "stdout",
     "output_type": "stream",
     "text": [
      "country       Kazakhstan\n",
      "population          18.8\n",
      "square           2724902\n",
      "Name: KZ, dtype: object\n"
     ]
    }
   ],
   "source": [
    "print(df.iloc[0]) # access row by integer position"
   ]
  },
  {
   "cell_type": "markdown",
   "id": "8a243d08",
   "metadata": {},
   "source": [
    "A selection of particular rows and columns can be selected this way."
   ]
  },
  {
   "cell_type": "code",
   "execution_count": 24,
   "id": "6525035c",
   "metadata": {},
   "outputs": [
    {
     "name": "stdout",
     "output_type": "stream",
     "text": [
      "country code\n",
      "KZ     18.8\n",
      "RU    144.5\n",
      "Name: population, dtype: float64\n"
     ]
    }
   ],
   "source": [
    "print(df.loc[['KZ', 'RU'], 'population']) # access multiple rows and a specific column"
   ]
  },
  {
   "cell_type": "markdown",
   "id": "6133c4d7",
   "metadata": {},
   "source": [
    "You can feed .loc() two arguments, index list and column list, slicing operation is supported as well."
   ]
  },
  {
   "cell_type": "code",
   "execution_count": 25,
   "id": "0ace3972",
   "metadata": {},
   "outputs": [
    {
     "name": "stdout",
     "output_type": "stream",
     "text": [
      "                 country  population    square\n",
      "country code                                  \n",
      "KZ            Kazakhstan        18.8   2724902\n",
      "RU                Russia       144.5  17098242\n",
      "BY               Belarus         9.5    207600\n"
     ]
    }
   ],
   "source": [
    "print(df.loc['KZ' : 'BY', :]) # slicing rows and all columns"
   ]
  },
  {
   "cell_type": "markdown",
   "id": "1d8d8495",
   "metadata": {},
   "source": [
    "## Filtering\n",
    "Filtering is performed using so-called Boolean arrays."
   ]
  },
  {
   "cell_type": "code",
   "execution_count": 26,
   "id": "2bc7044b",
   "metadata": {},
   "outputs": [
    {
     "name": "stdout",
     "output_type": "stream",
     "text": [
      "              country    square\n",
      "country code                   \n",
      "RU             Russia  17098242\n",
      "UA            Ukraine    603628\n"
     ]
    }
   ],
   "source": [
    "print(df[df.population > 20][['country', 'square']]) # filter rows where population is greater than 20"
   ]
  },
  {
   "cell_type": "markdown",
   "id": "8dfab62b",
   "metadata": {},
   "source": [
    "## Deleting columns\n",
    "You can delete a column using the drop() function."
   ]
  },
  {
   "cell_type": "code",
   "execution_count": null,
   "id": "01ecba42",
   "metadata": {},
   "outputs": [
    {
     "name": "stdout",
     "output_type": "stream",
     "text": [
      "                 country  population    square\n",
      "country code                                  \n",
      "KZ            Kazakhstan        18.8   2724902\n",
      "RU                Russia       144.5  17098242\n",
      "BY               Belarus         9.5    207600\n",
      "UA               Ukraine        43.7    603628\n",
      "----------------\n",
      "                 country    square\n",
      "country code                      \n",
      "KZ            Kazakhstan   2724902\n",
      "RU                Russia  17098242\n",
      "BY               Belarus    207600\n",
      "UA               Ukraine    603628\n"
     ]
    }
   ],
   "source": [
    "print(df)\n",
    "print('----------------')\n",
    "df_dropped = df.drop('population', axis='columns') # delete the 'population' column\n",
    "print(df_dropped)"
   ]
  },
  {
   "cell_type": "markdown",
   "id": "5a87421b",
   "metadata": {},
   "source": [
    "## Reading from and writing to a file\n",
    "Pandas supports many popular file formats including CSV, XML, HTML, Excel, SQL, JSON, etc. Out of all of these, CSV is the file format that you will work with the\n",
    "most. You can read in the data from a CSV file using the read_csv() function:\n",
    "\n",
    "df = pd.read_csv('filename.csv', sep=',')\n",
    "\n",
    "Similarly, you can write a data frame to a csv file with the to_csv() function.\n",
    "\n",
    "df.to_csv('filename.csv')"
   ]
  }
 ],
 "metadata": {
  "kernelspec": {
   "display_name": "Python 3",
   "language": "python",
   "name": "python3"
  },
  "language_info": {
   "codemirror_mode": {
    "name": "ipython",
    "version": 3
   },
   "file_extension": ".py",
   "mimetype": "text/x-python",
   "name": "python",
   "nbconvert_exporter": "python",
   "pygments_lexer": "ipython3",
   "version": "3.9.6"
  }
 },
 "nbformat": 4,
 "nbformat_minor": 5
}
